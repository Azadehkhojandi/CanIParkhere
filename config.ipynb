{
 "cells": [
  {
   "cell_type": "code",
   "execution_count": 1,
   "metadata": {},
   "outputs": [
    {
     "name": "stdout",
     "output_type": "stream",
     "text": [
      "Requirement already up-to-date: pip in c:\\users\\administrator\\appdata\\local\\conda\\conda\\envs\\py35\\lib\\site-packages (18.0)\n"
     ]
    }
   ],
   "source": [
    "import sys\n",
    "! \"{sys.executable}\" -m pip install --upgrade pip "
   ]
  },
  {
   "cell_type": "code",
   "execution_count": 2,
   "metadata": {},
   "outputs": [
    {
     "name": "stdout",
     "output_type": "stream",
     "text": [
      "Collecting azure-cognitiveservices-vision-customvision\n",
      "  Using cached https://files.pythonhosted.org/packages/38/1d/ca479ba08a621058df0454c6d827bce562f4533720229bc22c9fbb505bce/azure_cognitiveservices_vision_customvision-0.3.0-py2.py3-none-any.whl\n",
      "Collecting azure-cognitiveservices-vision-nspkg>=2.0.0 (from azure-cognitiveservices-vision-customvision)\n",
      "  Using cached https://files.pythonhosted.org/packages/e2/d5/d87020222dd13bd2429e970820c6ade6a42176a0bc8242fe030155c1f849/azure_cognitiveservices_vision_nspkg-2.0.0-py2.py3-none-any.whl\n",
      "Collecting azure-common~=1.1 (from azure-cognitiveservices-vision-customvision)\n",
      "  Downloading https://files.pythonhosted.org/packages/28/b9/51abe52b2d744e46f68314db31d178a8e8a2ea9a409b42146af08884ed47/azure_common-1.1.15-py2.py3-none-any.whl\n",
      "Collecting msrest<2.0.0,>=0.4.28 (from azure-cognitiveservices-vision-customvision)\n",
      "  Downloading https://files.pythonhosted.org/packages/ad/2a/37b2481fa1a7cd727c07d20cbcb0a3f9bf9dd994930f44dd9770df15c28d/msrest-0.5.5-py2.py3-none-any.whl (47kB)\n",
      "Collecting azure-cognitiveservices-nspkg>=2.0.0 (from azure-cognitiveservices-vision-nspkg>=2.0.0->azure-cognitiveservices-vision-customvision)\n",
      "  Using cached https://files.pythonhosted.org/packages/8b/81/c448f796b89a8aaf67dbd02ff51f9e47e7eaa245a6fb98c47ebe8411b6a8/azure_cognitiveservices_nspkg-2.0.0-py2.py3-none-any.whl\n",
      "Collecting azure-nspkg>=2.0.0 (from azure-common~=1.1->azure-cognitiveservices-vision-customvision)\n",
      "  Using cached https://files.pythonhosted.org/packages/cd/a0/76ca6659ae9afd7567fdbb5b9c85e9c9a0b48238cfcacd92525484408f66/azure_nspkg-2.0.0-py2.py3-none-any.whl\n",
      "Collecting isodate>=0.6.0 (from msrest<2.0.0,>=0.4.28->azure-cognitiveservices-vision-customvision)\n",
      "  Using cached https://files.pythonhosted.org/packages/9b/9f/b36f7774ff5ea8e428fdcfc4bb332c39ee5b9362ddd3d40d9516a55221b2/isodate-0.6.0-py2.py3-none-any.whl\n",
      "Collecting requests-oauthlib>=0.5.0 (from msrest<2.0.0,>=0.4.28->azure-cognitiveservices-vision-customvision)\n",
      "  Using cached https://files.pythonhosted.org/packages/94/e7/c250d122992e1561690d9c0f7856dadb79d61fd4bdd0e598087dce607f6c/requests_oauthlib-1.0.0-py2.py3-none-any.whl\n",
      "Requirement already satisfied: requests~=2.16 in c:\\program files (x86)\\microsoft visual studio\\shared\\anaconda3_64\\lib\\site-packages (from msrest<2.0.0,>=0.4.28->azure-cognitiveservices-vision-customvision) (2.18.4)\n",
      "Requirement already satisfied: certifi>=2017.4.17 in c:\\program files (x86)\\microsoft visual studio\\shared\\anaconda3_64\\lib\\site-packages (from msrest<2.0.0,>=0.4.28->azure-cognitiveservices-vision-customvision) (2018.4.16)\n",
      "Requirement already satisfied: six in c:\\program files (x86)\\microsoft visual studio\\shared\\anaconda3_64\\lib\\site-packages (from isodate>=0.6.0->msrest<2.0.0,>=0.4.28->azure-cognitiveservices-vision-customvision) (1.11.0)\n",
      "Collecting oauthlib>=0.6.2 (from requests-oauthlib>=0.5.0->msrest<2.0.0,>=0.4.28->azure-cognitiveservices-vision-customvision)\n",
      "  Using cached https://files.pythonhosted.org/packages/e6/d1/ddd9cfea3e736399b97ded5c2dd62d1322adef4a72d816f1ed1049d6a179/oauthlib-2.1.0-py2.py3-none-any.whl\n",
      "Requirement already satisfied: chardet<3.1.0,>=3.0.2 in c:\\program files (x86)\\microsoft visual studio\\shared\\anaconda3_64\\lib\\site-packages (from requests~=2.16->msrest<2.0.0,>=0.4.28->azure-cognitiveservices-vision-customvision) (3.0.4)\n",
      "Requirement already satisfied: idna<2.7,>=2.5 in c:\\program files (x86)\\microsoft visual studio\\shared\\anaconda3_64\\lib\\site-packages (from requests~=2.16->msrest<2.0.0,>=0.4.28->azure-cognitiveservices-vision-customvision) (2.6)\n",
      "Requirement already satisfied: urllib3<1.23,>=1.21.1 in c:\\program files (x86)\\microsoft visual studio\\shared\\anaconda3_64\\lib\\site-packages (from requests~=2.16->msrest<2.0.0,>=0.4.28->azure-cognitiveservices-vision-customvision) (1.22)\n",
      "Installing collected packages: azure-nspkg, azure-cognitiveservices-nspkg, azure-cognitiveservices-vision-nspkg, azure-common, isodate, oauthlib, requests-oauthlib, msrest, azure-cognitiveservices-vision-customvision\n"
     ]
    },
    {
     "name": "stderr",
     "output_type": "stream",
     "text": [
      "distributed 1.21.8 requires msgpack, which is not installed.\n",
      "Could not install packages due to an EnvironmentError: [WinError 5] Access is denied: 'C:\\\\Program Files (x86)\\\\Microsoft Visual Studio\\\\Shared\\\\Anaconda3_64\\\\Lib\\\\site-packages\\\\azure'\n",
      "Consider using the `--user` option or check the permissions.\n",
      "\n",
      "You are using pip version 10.0.1, however version 18.0 is available.\n",
      "You should consider upgrading via the 'python -m pip install --upgrade pip' command.\n"
     ]
    }
   ],
   "source": [
    "! \"{sys.executable}\" -m pip install azure-cognitiveservices-vision-customvision"
   ]
  },
  {
   "cell_type": "code",
   "execution_count": 3,
   "metadata": {},
   "outputs": [
    {
     "name": "stdout",
     "output_type": "stream",
     "text": [
      "Requirement already satisfied: Flask in c:\\users\\administrator\\appdata\\local\\conda\\conda\\envs\\py35\\lib\\site-packages (1.0.2)\n",
      "Requirement already satisfied: Werkzeug>=0.14 in c:\\users\\administrator\\appdata\\local\\conda\\conda\\envs\\py35\\lib\\site-packages (from Flask) (0.14.1)\n",
      "Requirement already satisfied: itsdangerous>=0.24 in c:\\users\\administrator\\appdata\\local\\conda\\conda\\envs\\py35\\lib\\site-packages (from Flask) (0.24)\n",
      "Requirement already satisfied: click>=5.1 in c:\\users\\administrator\\appdata\\local\\conda\\conda\\envs\\py35\\lib\\site-packages (from Flask) (6.7)\n",
      "Requirement already satisfied: Jinja2>=2.10 in c:\\users\\administrator\\appdata\\local\\conda\\conda\\envs\\py35\\lib\\site-packages (from Flask) (2.10)\n",
      "Requirement already satisfied: MarkupSafe>=0.23 in c:\\users\\administrator\\appdata\\local\\conda\\conda\\envs\\py35\\lib\\site-packages (from Jinja2>=2.10->Flask) (1.0)\n"
     ]
    }
   ],
   "source": [
    "! \"{sys.executable}\" -m pip install Flask"
   ]
  },
  {
   "cell_type": "code",
   "execution_count": null,
   "metadata": {},
   "outputs": [],
   "source": []
  }
 ],
 "metadata": {
  "kernelspec": {
   "display_name": "Python 3",
   "language": "python",
   "name": "python3"
  },
  "language_info": {
   "codemirror_mode": {
    "name": "ipython",
    "version": 3
   },
   "file_extension": ".py",
   "mimetype": "text/x-python",
   "name": "python",
   "nbconvert_exporter": "python",
   "pygments_lexer": "ipython3",
   "version": "3.5.5"
  }
 },
 "nbformat": 4,
 "nbformat_minor": 2
}
